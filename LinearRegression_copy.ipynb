{
 "cells": [
  {
   "cell_type": "markdown",
   "metadata": {},
   "source": [
    "- Compare RMSE results with other regression models"
   ]
  },
  {
   "cell_type": "markdown",
   "metadata": {},
   "source": [
    "### How to Implement Linear Regression With Stochastic Gradient Descent From Scratch With Python\n",
    "https://machinelearningmastery.com/implement-linear-regression-stochastic-gradient-descent-scratch-python/"
   ]
  },
  {
   "cell_type": "code",
   "execution_count": 1,
   "metadata": {},
   "outputs": [],
   "source": [
    "# Linear Regression With Stochastic Gradient Descent for Wine Quality\n",
    "from random import seed\n",
    "from random import randrange\n",
    "from csv import reader\n",
    "from math import sqrt\n",
    "\n",
    "\n",
    "def load_csv(filename):\n",
    "    dataset = list()\n",
    "    with open(filename, 'r') as file:\n",
    "        csv_reader = reader(file)\n",
    "        for row in csv_reader:\n",
    "            #if not row:\n",
    "                #continue\n",
    "            dataset.append(row)\n",
    "    return dataset\n",
    "\n",
    "dataset = load_csv('winequality-white.csv')\n",
    "#dataset[0:10]\n",
    "seed(1)"
   ]
  },
  {
   "cell_type": "markdown",
   "metadata": {},
   "source": [
    "Each row contains a string instead of a list of values. Use split to separate the values from the string and convert the values from string to float."
   ]
  },
  {
   "cell_type": "code",
   "execution_count": 2,
   "metadata": {},
   "outputs": [],
   "source": [
    "new = []\n",
    "for i, row in enumerate(dataset):\n",
    "    if i == 0:\n",
    "        continue\n",
    "    temp = row[0].split(';')\n",
    "    new.append(temp)\n",
    "\n",
    "def str_column_to_float(dataset, column):\n",
    "    for row in dataset:\n",
    "        row[column] = float(row[column].strip())\n",
    "        \n",
    "for i in range(len(new[0])):\n",
    "    str_column_to_float(new, i)\n",
    "\n",
    "dataset = new.copy()\n"
   ]
  },
  {
   "cell_type": "code",
   "execution_count": 3,
   "metadata": {},
   "outputs": [
    {
     "data": {
      "text/plain": [
       "[[3.8, 14.2],\n",
       " [0.08, 1.1],\n",
       " [0.0, 1.66],\n",
       " [0.6, 65.8],\n",
       " [0.009, 0.346],\n",
       " [2.0, 289.0],\n",
       " [9.0, 440.0],\n",
       " [0.98711, 1.03898],\n",
       " [2.72, 3.82],\n",
       " [0.22, 1.08],\n",
       " [8.0, 14.2],\n",
       " [3.0, 9.0]]"
      ]
     },
     "execution_count": 3,
     "metadata": {},
     "output_type": "execute_result"
    }
   ],
   "source": [
    "# Find the min and max values for each column\n",
    "def dataset_minmax(dataset):\n",
    "    minmax = list()\n",
    "    for i in range(len(dataset[0])):\n",
    "        col_values = [row[i] for row in dataset]\n",
    "        value_min = min(col_values)\n",
    "        value_max = max(col_values)\n",
    "        minmax.append([value_min, value_max])\n",
    "    return minmax\n",
    "\n",
    "minmax_data = dataset_minmax(dataset)\n",
    "minmax_data\n"
   ]
  },
  {
   "cell_type": "markdown",
   "metadata": {},
   "source": [
    "The range for each feature differs, so min-max normalization is used. All the values will fall into range (0,1)"
   ]
  },
  {
   "cell_type": "code",
   "execution_count": 4,
   "metadata": {},
   "outputs": [],
   "source": [
    "# Rescale dataset columns to the range 0-1\n",
    "def normalize_dataset(dataset, minmax):\n",
    "    for row in dataset:\n",
    "        for i in range(len(row)):\n",
    "            row[i] = (row[i] - minmax[i][0]) / (minmax[i][1] - minmax[i][0])\n",
    "            \n",
    "normalize_dataset(dataset, minmax_data)\n"
   ]
  },
  {
   "cell_type": "markdown",
   "metadata": {},
   "source": [
    "Linear Regression prediction: $\\hat{y}=\\sideset{}{_{i=0}^{n}}\\sum b_{i}x_{i}$.\n",
    "\n",
    "Cost Function = $f=\\frac{1}{2}\\sum(y-\\hat{y})^{2}$. \n",
    "\n",
    "Gradient Descent: $b_i = b_i - learning\\_rate * \\nabla f$ where $\\nabla f = (y-\\hat{y})*x_i = error * x_i$"
   ]
  },
  {
   "cell_type": "code",
   "execution_count": 5,
   "metadata": {},
   "outputs": [],
   "source": [
    "# Make a prediction with coefficients\n",
    "def predict(row, coeff):\n",
    "    yhat = coeff[0]\n",
    "    for i in range(len(row)-1):\n",
    "        yhat += coeff[i + 1] * row[i]\n",
    "    return yhat\n",
    "\n",
    "# Estimate linear regression coefficients using stochastic gradient descent\n",
    "def coefficients_sgd(train, learning_rate, epoch):\n",
    "    coeff = [0.0 for i in range(len(train[0]))]\n",
    "    for epoch in range(epoch):\n",
    "        for row in train:\n",
    "            yhat = predict(row, coeff)\n",
    "            error = yhat - row[-1]\n",
    "            coeff[0] = coeff[0] - learning_rate * error\n",
    "            for i in range(len(row)-1):\n",
    "                coeff[i + 1] = coeff[i + 1] - learning_rate * error * row[i]\n",
    "            # print(l_rate, n_epoch, error)\n",
    "    return coeff"
   ]
  },
  {
   "cell_type": "code",
   "execution_count": 6,
   "metadata": {},
   "outputs": [],
   "source": [
    "# Linear Regression Algorithm With Stochastic Gradient Descent\n",
    "def linear_regression_sgd(train, test, learning_rate, epoch):\n",
    "    predictions = list()\n",
    "    coeff = coefficients_sgd(train, learning_rate, epoch)\n",
    "    for row in test:\n",
    "        yhat = predict(row, coeff)\n",
    "        predictions.append(yhat)\n",
    "    return predictions"
   ]
  },
  {
   "cell_type": "code",
   "execution_count": 7,
   "metadata": {},
   "outputs": [],
   "source": [
    "residual = list()\n",
    "predicted_list = list()\n",
    "actual_list = list()\n",
    "import matplotlib.pyplot as plt\n",
    "# Calculate root mean squared error\n",
    "def rmse_metric(actual, predicted):\n",
    "    sum_error = 0.0\n",
    "    for i in range(len(actual)):\n",
    "        prediction_error = predicted[i] - actual[i]\n",
    "        residual.append(prediction_error)\n",
    "        predicted_list.append(predicted[i])\n",
    "        actual_list.append(actual[i])\n",
    "        sum_error += (prediction_error ** 2)\n",
    "    fig = plt.scatter(predicted_list, residual)\n",
    "    plt.title('Residuals VS Predicted Values')\n",
    "    print(fig)\n",
    "    mean_error = sum_error / float(len(actual))\n",
    "    return sqrt(mean_error)"
   ]
  },
  {
   "cell_type": "markdown",
   "metadata": {},
   "source": [
    "fold size = number of training data in each set.\n",
    "k-1 folds are used as training data.\n",
    "cross validation is used to measure prediction accuracy."
   ]
  },
  {
   "cell_type": "code",
   "execution_count": 8,
   "metadata": {},
   "outputs": [],
   "source": [
    "# Split a dataset into k folds\n",
    "def cross_validation_split(dataset, n_folds):\n",
    "    dataset_split = list()\n",
    "    dataset_copy = list(dataset)\n",
    "    fold_size = int(len(dataset) / n_folds)\n",
    "    for i in range(n_folds):\n",
    "        fold = list()\n",
    "        while len(fold) < fold_size:\n",
    "            index = randrange(len(dataset_copy))\n",
    "            fold.append(dataset_copy.pop(index))\n",
    "        dataset_split.append(fold)\n",
    "    return dataset_split\n",
    "\n",
    "# Evaluate an algorithm using a cross validation split\n",
    "def evaluate_algthm(dataset, algthm, n_folds, *args):\n",
    "    folds = cross_validation_split(dataset, n_folds)\n",
    "    scores = list()\n",
    "    for fold in folds:\n",
    "        train_set = list(folds)\n",
    "        train_set.remove(fold)\n",
    "        train_set = sum(train_set, [])\n",
    "        test_set = list()\n",
    "        for row in fold:\n",
    "            row_copy = list(row)\n",
    "            test_set.append(row_copy)\n",
    "            row_copy[-1] = None\n",
    "        predicted = algthm(train_set, test_set, *args)\n",
    "        actual = [row[-1] for row in fold]\n",
    "        rmse = rmse_metric(actual, predicted)\n",
    "        scores.append(rmse)\n",
    "    return scores"
   ]
  },
  {
   "cell_type": "code",
   "execution_count": 9,
   "metadata": {},
   "outputs": [
    {
     "name": "stdout",
     "output_type": "stream",
     "text": [
      "<matplotlib.collections.PathCollection object at 0x0000017460A36748>\n",
      "<matplotlib.collections.PathCollection object at 0x00000174607D0400>\n",
      "<matplotlib.collections.PathCollection object at 0x0000017460A366D8>\n",
      "<matplotlib.collections.PathCollection object at 0x0000017460A36B70>\n",
      "<matplotlib.collections.PathCollection object at 0x0000017460A36EF0>\n",
      "Scores: [0.12248058224159092, 0.13034017509167112, 0.12620370547483578, 0.12897687952843237, 0.12446990678682233]\n",
      "Mean RMSE: 0.126\n"
     ]
    },
    {
     "data": {
      "image/png": "[encoded data removed]",
      "text/plain": [
       "<Figure size 432x288 with 1 Axes>"
      ]
     },
     "metadata": {},
     "output_type": "display_data"
    }
   ],
   "source": [
    "# evaluate algorithm\n",
    "n_folds = 5\n",
    "l_rate = 0.01\n",
    "epoch = 50\n",
    "scores = evaluate_algthm(dataset, linear_regression_sgd, n_folds, l_rate, epoch)\n",
    "print('Scores: %s' % scores)\n",
    "print('Mean RMSE: %.3f' % (sum(scores)/float(len(scores))))"
   ]
  },
  {
   "cell_type": "code",
   "execution_count": 10,
   "metadata": {},
   "outputs": [],
   "source": [
    "def train_test_split(dataset, split_ratio):\n",
    "    training_set = list()\n",
    "    dataset_copy = list(dataset)\n",
    "    train_size = split_ratio * len(dataset)\n",
    "    while len(training_set) < train_size:\n",
    "        index = randrange(len(dataset_copy))\n",
    "        training_set.append(dataset_copy.pop(index))    \n",
    "    #plt.figure(1)\n",
    "    #x = [row[0] for row in training_set]\n",
    "    #y = [row[-1] for row in training_set]\n",
    "    #print(plt.figure(1))\n",
    "    return training_set, dataset_copy\n",
    "\n",
    "import pandas as pd\n",
    "\n",
    "split = 0.6\n",
    "training_set, testing_set = train_test_split(dataset, split)\n",
    "training_set = pd.DataFrame(training_set)\n",
    "testing_set = pd.DataFrame(testing_set)\n",
    "x_train = training_set.iloc[:,0:-1]\n",
    "y_train = training_set.iloc[:,-1]\n",
    "x_test = testing_set.iloc[:,0:-1]\n",
    "y_test = testing_set.iloc[:,-1]\n",
    "\n"
   ]
  },
  {
   "cell_type": "markdown",
   "metadata": {},
   "source": [
    "Check the correlations between the features, which may affect the accuracy. Feature 3 and feature 7 seem highly correlated."
   ]
  },
  {
   "cell_type": "code",
   "execution_count": 11,
   "metadata": {},
   "outputs": [
    {
     "data": {
      "text/plain": [
       "<matplotlib.axes._subplots.AxesSubplot at 0x174622b3dd8>"
      ]
     },
     "execution_count": 11,
     "metadata": {},
     "output_type": "execute_result"
    },
    {
     "data": {
      "image/png": "[encoded data removed]",
      "text/plain": [
       "<Figure size 504x504 with 1 Axes>"
      ]
     },
     "metadata": {},
     "output_type": "display_data"
    }
   ],
   "source": [
    "import seaborn as sns\n",
    "\n",
    "corr_mat=x_train.corr(method='pearson')\n",
    "plt.figure(figsize=(7,7))\n",
    "sns.heatmap(corr_mat,vmax=1,square=True,annot=True,cbar = False, cmap='YlGnBu')"
   ]
  },
  {
   "cell_type": "markdown",
   "metadata": {},
   "source": [
    "Compare RMSE with different regression models, namely Ridge regression, kNN, Bayesian and SVM.\n",
    "\n",
    "https://www.kaggle.com/ankitjha/comparing-regression-models"
   ]
  },
  {
   "cell_type": "code",
   "execution_count": 12,
   "metadata": {},
   "outputs": [
    {
     "name": "stdout",
     "output_type": "stream",
     "text": [
      "RMSE in ridge regression: 0.128\n"
     ]
    }
   ],
   "source": [
    "from sklearn import linear_model\n",
    "\n",
    "ridge_model=linear_model.Ridge()\n",
    "ridge_model.fit(x_train,y_train)\n",
    "\n",
    "yhat_ridge=ridge_model.predict(x_test)\n",
    "y_predict_ridge=list(yhat_ridge)\n",
    "\n",
    "error=0.0\n",
    "for i in range(len(y_test)):\n",
    "    error+=((y_predict_ridge[i]-y_test[i]) ** 2)\n",
    "\n",
    "test_error_ridge=sqrt(error/float(len(y_test)))\n",
    "print('RMSE in ridge regression: %.3f' % test_error_ridge)\n"
   ]
  },
  {
   "cell_type": "code",
   "execution_count": 13,
   "metadata": {},
   "outputs": [
    {
     "name": "stdout",
     "output_type": "stream",
     "text": [
      "RMSE in knn algorithm: 0.123\n"
     ]
    }
   ],
   "source": [
    "from sklearn import neighbors\n",
    "\n",
    "n_neighbors=5\n",
    "knn=neighbors.KNeighborsRegressor(n_neighbors,weights='uniform')\n",
    "knn.fit(x_train,y_train)\n",
    "\n",
    "yhat_knn=knn.predict(x_test)\n",
    "y_predict_knn=list(yhat_knn)\n",
    "\n",
    "error=0.0\n",
    "\n",
    "for i in range(len(y_test)):\n",
    "    error+=((y_predict_knn[i]-y_test[i]) ** 2)\n",
    "\n",
    "test_error_knn=sqrt(error/float(len(y_test)))\n",
    "print('RMSE in knn algorithm: %.3f' % test_error_knn)"
   ]
  },
  {
   "cell_type": "code",
   "execution_count": 14,
   "metadata": {},
   "outputs": [
    {
     "name": "stdout",
     "output_type": "stream",
     "text": [
      "RMSE in Bayesian Regression: 0.127\n"
     ]
    }
   ],
   "source": [
    "import numpy as np\n",
    "bayes_model = linear_model.BayesianRidge()\n",
    "bayes_model.fit(x_train,y_train)\n",
    "\n",
    "yhat_bayes = bayes_model.predict(x_test)\n",
    "y_predict_bayes=list(yhat_bayes)\n",
    "\n",
    "error=0.0\n",
    "\n",
    "for i in range(len(y_test)):\n",
    "    error+=((y_predict_bayes[i]-y_test[i]) ** 2)\n",
    "\n",
    "test_error_bayes=sqrt(error/float(len(y_test)))\n",
    "print('RMSE in Bayesian Regression: %.3f' % test_error_bayes)\n"
   ]
  },
  {
   "cell_type": "code",
   "execution_count": 15,
   "metadata": {},
   "outputs": [
    {
     "name": "stdout",
     "output_type": "stream",
     "text": [
      "RMSE in SVM: 0.126\n"
     ]
    },
    {
     "data": {
      "text/plain": [
       "Text(0.5,1,'Residuals VS Predicted Values')"
      ]
     },
     "execution_count": 15,
     "metadata": {},
     "output_type": "execute_result"
    },
    {
     "data": {
      "image/png": "[encoded data removed]",
      "text/plain": [
       "<Figure size 432x288 with 1 Axes>"
      ]
     },
     "metadata": {},
     "output_type": "display_data"
    }
   ],
   "source": [
    "from sklearn import svm\n",
    "\n",
    "svm_model=svm.SVR()\n",
    "svm_model.fit(x_train,y_train)\n",
    "\n",
    "yhat_svm=svm_model.predict(x_test)\n",
    "y_predict_svm=list(yhat_svm)\n",
    "\n",
    "error=0.0\n",
    "residuals_list = list()\n",
    "for i in range(len(y_test)):\n",
    "    residuals = y_test[i] - y_predict_svm[i]\n",
    "    residuals_list.append(residuals)\n",
    "    error+=((residuals) ** 2)\n",
    "\n",
    "test_error_svm=sqrt(error/float(len(y_test)))\n",
    "print('RMSE in SVM: %.3f' % test_error_svm)\n",
    "\n",
    "plt.scatter(y_predict_svm, residuals_list)\n",
    "plt.title('Residuals VS Predicted Values')\n"
   ]
  },
  {
   "cell_type": "code",
   "execution_count": 16,
   "metadata": {},
   "outputs": [
    {
     "data": {
      "text/html": [
       "<div>\n",
       "<style scoped>\n",
       "    .dataframe tbody tr th:only-of-type {\n",
       "        vertical-align: middle;\n",
       "    }\n",
       "\n",
       "    .dataframe tbody tr th {\n",
       "        vertical-align: top;\n",
       "    }\n",
       "\n",
       "    .dataframe thead th {\n",
       "        text-align: right;\n",
       "    }\n",
       "</style>\n",
       "<table border=\"1\" class=\"dataframe\">\n",
       "  <thead>\n",
       "    <tr style=\"text-align: right;\">\n",
       "      <th></th>\n",
       "      <th>Models</th>\n",
       "      <th>RMSE</th>\n",
       "    </tr>\n",
       "  </thead>\n",
       "  <tbody>\n",
       "    <tr>\n",
       "      <th>0</th>\n",
       "      <td>Ridge</td>\n",
       "      <td>0.127597</td>\n",
       "    </tr>\n",
       "    <tr>\n",
       "      <th>1</th>\n",
       "      <td>kNN</td>\n",
       "      <td>0.123412</td>\n",
       "    </tr>\n",
       "    <tr>\n",
       "      <th>2</th>\n",
       "      <td>Bayesian</td>\n",
       "      <td>0.127258</td>\n",
       "    </tr>\n",
       "    <tr>\n",
       "      <th>3</th>\n",
       "      <td>SVM</td>\n",
       "      <td>0.126409</td>\n",
       "    </tr>\n",
       "  </tbody>\n",
       "</table>\n",
       "</div>"
      ],
      "text/plain": [
       "     Models      RMSE\n",
       "0     Ridge  0.127597\n",
       "1       kNN  0.123412\n",
       "2  Bayesian  0.127258\n",
       "3       SVM  0.126409"
      ]
     },
     "execution_count": 16,
     "metadata": {},
     "output_type": "execute_result"
    }
   ],
   "source": [
    "reg_models = list(['Ridge', 'kNN', 'Bayesian', 'SVM'])\n",
    "error_values = list([test_error_ridge, test_error_knn, test_error_bayes, test_error_svm])\n",
    "error_results = pd.DataFrame(list(zip(reg_models, error_values)), columns = ('Models', 'RMSE'))\n",
    "error_results"
   ]
  },
  {
   "cell_type": "code",
   "execution_count": null,
   "metadata": {},
   "outputs": [],
   "source": []
  }
 ],
 "metadata": {
  "kernelspec": {
   "display_name": "Python 3",
   "language": "python",
   "name": "python3"
  },
  "language_info": {
   "codemirror_mode": {
    "name": "ipython",
    "version": 3
   },
   "file_extension": ".py",
   "mimetype": "text/x-python",
   "name": "python",
   "nbconvert_exporter": "python",
   "pygments_lexer": "ipython3",
   "version": "3.6.5"
  }
 },
 "nbformat": 4,
 "nbformat_minor": 2
}

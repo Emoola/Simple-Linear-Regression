{
 "cells": [
  {
   "cell_type": "markdown",
   "metadata": {},
   "source": [
    "- Simple Linear Regression (Estimate coefficients for single feature)\n",
    "- Linear Regression using Stochastic Gradient Descent\n",
    "\n",
    "### Simple Linear Regression Tutorial for Machine Learning\n",
    "https://machinelearningmastery.com/simple-linear-regression-tutorial-for-machine-learning/\n",
    "\n"
   ]
  },
  {
   "cell_type": "code",
   "execution_count": 1,
   "metadata": {},
   "outputs": [],
   "source": [
    "x = [1,2,4,3,5]\n",
    "y = [1,3,3,2,5]"
   ]
  },
  {
   "cell_type": "markdown",
   "metadata": {},
   "source": [
    "Prediction using linear regression: $\\hat{y}=b_{0}+b_{1}x$. Estimate the coefficients $b_{0}$ and $b_{1}$ to minimize the error $\\varepsilon=\\hat{y}-y$ in prediction.\n",
    "\n",
    "Use the least square approach to minimize the problem: $f(b_{0},b_{1})=\\sum\\varepsilon^{2}=\\sum(\\hat{y}-b_{0}-b_{1}x)^{2}$. Set the derivatives of the function with respect to $b_{0}$ and $b_{1}$ as 0 to find the values of $b_{0}$ and $b_{1}$. \n",
    "\n",
    "$\\frac{\\partial f}{\\partial b_{0}}=0\\Rightarrow nb_{0}=\\sum y-b_{1}\\sum x\\Rightarrow b_{0}=\\bar{y}-b_{1}\\bar{x}$\n",
    "\n",
    "$\\frac{\\partial f}{\\partial b_{1}}=0\\Rightarrow b_{1}\\sum x^{2}=\\sum xy-b_{0}\\sum x\\Rightarrow nb_{1}\\sum x^{2}=n\\sum xy-nb_{0}\\sum x=n\\sum xy-(\\sum y-b_{1}\\sum x)\\sum x$\n",
    "\n",
    "$\\Rightarrow b_{1}=\\frac{n\\sum xy-\\sum x\\sum y}{n\\sum x^{2}-\\left(\\sum x\\right)^{2}}=\\frac{\\sum\\left(x-\\bar{x}\\right)\\left(y-\\bar{y}\\right)}{\\sum\\left(x-\\bar{x}\\right)^{2}}$ where $n$ is the number of samples in the dataset.\n",
    "\n",
    "\n"
   ]
  },
  {
   "cell_type": "code",
   "execution_count": 2,
   "metadata": {},
   "outputs": [],
   "source": [
    "mean_x = sum(x)/len(x)\n",
    "mean_y = sum(y)/len(y)\n",
    "mean_y\n",
    "x_ = [x-mean_x for x in x]\n",
    "y_ = [y-mean_y for y in y]"
   ]
  },
  {
   "cell_type": "code",
   "execution_count": 3,
   "metadata": {},
   "outputs": [],
   "source": [
    "b_num = [x_*y_ for x_,y_ in zip(x_,y_)]\n",
    "b_denom = [x_*x_ for x_ in x_]\n",
    "b_1 = sum(b_num)/sum(b_denom)\n",
    "b_0 = mean_y - b_1*mean_x"
   ]
  },
  {
   "cell_type": "markdown",
   "metadata": {},
   "source": [
    "Prediction using linear regression: $\\hat{y}=0.4+0.8x$"
   ]
  },
  {
   "cell_type": "code",
   "execution_count": 4,
   "metadata": {},
   "outputs": [],
   "source": [
    "y_hat = [b_0 + b_1*x for x in x]"
   ]
  },
  {
   "cell_type": "code",
   "execution_count": 15,
   "metadata": {},
   "outputs": [
    {
     "data": {
      "text/plain": [
       "<matplotlib.collections.PathCollection at 0x1fc974669e8>"
      ]
     },
     "execution_count": 15,
     "metadata": {},
     "output_type": "execute_result"
    },
    {
     "data": {
      "image/png": "[encoded data removed]",
      "text/plain": [
       "<Figure size 432x288 with 1 Axes>"
      ]
     },
     "metadata": {},
     "output_type": "display_data"
    }
   ],
   "source": [
    "from matplotlib import pyplot as plt\n",
    "plt.plot(x,y_hat, 'r')\n",
    "plt.scatter(x, y_hat, c='r')\n",
    "plt.scatter(x,y)"
   ]
  },
  {
   "cell_type": "markdown",
   "metadata": {},
   "source": [
    "Use root mean squared error (RMSE) to calculate the error of the prediction: $\\sqrt{\\frac{\\sum\\left(\\hat{y}-y\\right)^{2}}{n}}=0.69$"
   ]
  },
  {
   "cell_type": "code",
   "execution_count": 6,
   "metadata": {},
   "outputs": [
    {
     "name": "stdout",
     "output_type": "stream",
     "text": [
      "RMSE:  0.69\n"
     ]
    }
   ],
   "source": [
    "epsilon = [(y_hat - y)**2 for y_hat, y in zip(y_hat, y)]\n",
    "rms_error = round((sum(epsilon)/len(y))**.5,2)\n",
    "print('RMSE: ', rms_error)"
   ]
  },
  {
   "cell_type": "code",
   "execution_count": 7,
   "metadata": {},
   "outputs": [
    {
     "data": {
      "text/html": [
       "<div>\n",
       "<style scoped>\n",
       "    .dataframe tbody tr th:only-of-type {\n",
       "        vertical-align: middle;\n",
       "    }\n",
       "\n",
       "    .dataframe tbody tr th {\n",
       "        vertical-align: top;\n",
       "    }\n",
       "\n",
       "    .dataframe thead th {\n",
       "        text-align: right;\n",
       "    }\n",
       "</style>\n",
       "<table border=\"1\" class=\"dataframe\">\n",
       "  <thead>\n",
       "    <tr style=\"text-align: right;\">\n",
       "      <th></th>\n",
       "      <th>x</th>\n",
       "      <th>actual y</th>\n",
       "      <th>predicted y</th>\n",
       "    </tr>\n",
       "  </thead>\n",
       "  <tbody>\n",
       "    <tr>\n",
       "      <th>0</th>\n",
       "      <td>1</td>\n",
       "      <td>1</td>\n",
       "      <td>1.2</td>\n",
       "    </tr>\n",
       "    <tr>\n",
       "      <th>1</th>\n",
       "      <td>2</td>\n",
       "      <td>3</td>\n",
       "      <td>2.0</td>\n",
       "    </tr>\n",
       "    <tr>\n",
       "      <th>2</th>\n",
       "      <td>4</td>\n",
       "      <td>3</td>\n",
       "      <td>3.6</td>\n",
       "    </tr>\n",
       "    <tr>\n",
       "      <th>3</th>\n",
       "      <td>3</td>\n",
       "      <td>2</td>\n",
       "      <td>2.8</td>\n",
       "    </tr>\n",
       "    <tr>\n",
       "      <th>4</th>\n",
       "      <td>5</td>\n",
       "      <td>5</td>\n",
       "      <td>4.4</td>\n",
       "    </tr>\n",
       "  </tbody>\n",
       "</table>\n",
       "</div>"
      ],
      "text/plain": [
       "   x  actual y  predicted y\n",
       "0  1         1          1.2\n",
       "1  2         3          2.0\n",
       "2  4         3          3.6\n",
       "3  3         2          2.8\n",
       "4  5         5          4.4"
      ]
     },
     "execution_count": 7,
     "metadata": {},
     "output_type": "execute_result"
    }
   ],
   "source": [
    "import pandas as pd \n",
    "data = pd.DataFrame(list(zip(x, y, y_hat)), columns=['x','actual y', 'predicted y'])\n",
    "data"
   ]
  },
  {
   "cell_type": "markdown",
   "metadata": {},
   "source": [
    "Use the Linear Regression model from sklearn to check whether it gives the same predictions. It can be seen that the $b_{0}$ and $b_{1}$ from the model are same as the previous calculations."
   ]
  },
  {
   "cell_type": "code",
   "execution_count": 8,
   "metadata": {},
   "outputs": [
    {
     "name": "stdout",
     "output_type": "stream",
     "text": [
      "b_0 value:  0.4\n",
      "b_1 value:  [0.8]\n"
     ]
    },
    {
     "data": {
      "text/html": [
       "<div>\n",
       "<style scoped>\n",
       "    .dataframe tbody tr th:only-of-type {\n",
       "        vertical-align: middle;\n",
       "    }\n",
       "\n",
       "    .dataframe tbody tr th {\n",
       "        vertical-align: top;\n",
       "    }\n",
       "\n",
       "    .dataframe thead th {\n",
       "        text-align: right;\n",
       "    }\n",
       "</style>\n",
       "<table border=\"1\" class=\"dataframe\">\n",
       "  <thead>\n",
       "    <tr style=\"text-align: right;\">\n",
       "      <th></th>\n",
       "      <th>x</th>\n",
       "      <th>actual y</th>\n",
       "      <th>predicted y</th>\n",
       "      <th>Predicted y new</th>\n",
       "    </tr>\n",
       "  </thead>\n",
       "  <tbody>\n",
       "    <tr>\n",
       "      <th>0</th>\n",
       "      <td>1</td>\n",
       "      <td>1</td>\n",
       "      <td>1.2</td>\n",
       "      <td>1.2</td>\n",
       "    </tr>\n",
       "    <tr>\n",
       "      <th>1</th>\n",
       "      <td>2</td>\n",
       "      <td>3</td>\n",
       "      <td>2.0</td>\n",
       "      <td>2.0</td>\n",
       "    </tr>\n",
       "    <tr>\n",
       "      <th>2</th>\n",
       "      <td>4</td>\n",
       "      <td>3</td>\n",
       "      <td>3.6</td>\n",
       "      <td>3.6</td>\n",
       "    </tr>\n",
       "    <tr>\n",
       "      <th>3</th>\n",
       "      <td>3</td>\n",
       "      <td>2</td>\n",
       "      <td>2.8</td>\n",
       "      <td>2.8</td>\n",
       "    </tr>\n",
       "    <tr>\n",
       "      <th>4</th>\n",
       "      <td>5</td>\n",
       "      <td>5</td>\n",
       "      <td>4.4</td>\n",
       "      <td>4.4</td>\n",
       "    </tr>\n",
       "  </tbody>\n",
       "</table>\n",
       "</div>"
      ],
      "text/plain": [
       "   x  actual y  predicted y  Predicted y new\n",
       "0  1         1          1.2              1.2\n",
       "1  2         3          2.0              2.0\n",
       "2  4         3          3.6              3.6\n",
       "3  3         2          2.8              2.8\n",
       "4  5         5          4.4              4.4"
      ]
     },
     "execution_count": 8,
     "metadata": {},
     "output_type": "execute_result"
    }
   ],
   "source": [
    "from sklearn.linear_model import LinearRegression\n",
    "import numpy as np\n",
    "model = LinearRegression()\n",
    "arr_x = np.array(x).reshape(-1,1)\n",
    "model.fit(arr_x, y)\n",
    "model_b_0 = round(model.intercept_, 2)\n",
    "model_b_1 = model.coef_\n",
    "print('b_0 value: ', model_b_0)\n",
    "print('b_1 value: ', model_b_1)\n",
    "predict_model_y = model.predict(arr_x)\n",
    "predict_model_y\n",
    "data['Predicted y new'] = pd.DataFrame(predict_model_y)\n",
    "data"
   ]
  },
  {
   "cell_type": "markdown",
   "metadata": {},
   "source": [
    "### Linear Regression Tutorial Using Gradient Descent for Machine Learning\n",
    "https://machinelearningmastery.com/linear-regression-tutorial-using-gradient-descent-for-machine-learning/"
   ]
  },
  {
   "cell_type": "code",
   "execution_count": 9,
   "metadata": {},
   "outputs": [],
   "source": [
    "learning_rate = 0.01\n",
    "epoch = 15\n",
    "b_0 = 0.0\n",
    "b_1 = 0.0\n",
    "list_b_0  = []\n",
    "list_b_1 = []\n",
    "error_values = []\n",
    "\n",
    "\n",
    "for epoch_value in range(epoch):\n",
    "    for i in range(len(x)):\n",
    "        y_hat = b_0 + b_1*x[i]\n",
    "        error = y_hat - y[i]\n",
    "        error_values.append(error)\n",
    "        b_0 = b_0 - learning_rate * error\n",
    "        b_1 = b_0 - learning_rate * error * x[i]\n",
    "        list_b_0.append(b_0)\n",
    "        list_b_1.append(b_1)"
   ]
  },
  {
   "cell_type": "code",
   "execution_count": 16,
   "metadata": {},
   "outputs": [
    {
     "name": "stdout",
     "output_type": "stream",
     "text": [
      "         b_0       b_1\n",
      "71  0.651487  0.647770\n",
      "72  0.662016  0.683076\n",
      "73  0.658073  0.642300\n",
      "74  0.652223  0.634674\n",
      "75  0.663967  0.722688\n"
     ]
    }
   ],
   "source": [
    "import pandas as pd\n",
    "from matplotlib import pyplot as plt\n",
    "import numpy as np\n",
    "\n",
    "result = pd.DataFrame(list(zip(list_b_0, list_b_1)), columns = ('b_0','b_1'))\n",
    "result.index += 1\n",
    "print(result.tail())"
   ]
  },
  {
   "cell_type": "code",
   "execution_count": 11,
   "metadata": {},
   "outputs": [
    {
     "data": {
      "text/plain": [
       "Text(0.5,1,'Error in each iteration')"
      ]
     },
     "execution_count": 11,
     "metadata": {},
     "output_type": "execute_result"
    },
    {
     "data": {
      "image/png": "[encoded data removed]",
      "text/plain": [
       "<Figure size 432x288 with 1 Axes>"
      ]
     },
     "metadata": {},
     "output_type": "display_data"
    }
   ],
   "source": [
    "iteration = [i for i in range(len(error_values))]\n",
    "plt.plot(error_values)\n",
    "plt.plot(np.zeros(len(error_values)),'r--')\n",
    "plt.title('Error in each iteration')"
   ]
  },
  {
   "cell_type": "code",
   "execution_count": 12,
   "metadata": {},
   "outputs": [
    {
     "name": "stdout",
     "output_type": "stream",
     "text": [
      "b_0, b_1 value in last iteration:  [0.6639674327560081, 0.6639674327560081]\n"
     ]
    }
   ],
   "source": [
    "final_b_0 = list_b_0[-1]\n",
    "final_b_1 = list_b_0[-1]\n",
    "print('b_0, b_1 value in last iteration: ', [final_b_0, final_b_1])"
   ]
  },
  {
   "cell_type": "code",
   "execution_count": 13,
   "metadata": {},
   "outputs": [
    {
     "data": {
      "text/html": [
       "<div>\n",
       "<style scoped>\n",
       "    .dataframe tbody tr th:only-of-type {\n",
       "        vertical-align: middle;\n",
       "    }\n",
       "\n",
       "    .dataframe tbody tr th {\n",
       "        vertical-align: top;\n",
       "    }\n",
       "\n",
       "    .dataframe thead th {\n",
       "        text-align: right;\n",
       "    }\n",
       "</style>\n",
       "<table border=\"1\" class=\"dataframe\">\n",
       "  <thead>\n",
       "    <tr style=\"text-align: right;\">\n",
       "      <th></th>\n",
       "      <th>x</th>\n",
       "      <th>actual y</th>\n",
       "      <th>predicted y</th>\n",
       "    </tr>\n",
       "  </thead>\n",
       "  <tbody>\n",
       "    <tr>\n",
       "      <th>0</th>\n",
       "      <td>1</td>\n",
       "      <td>1</td>\n",
       "      <td>1.327935</td>\n",
       "    </tr>\n",
       "    <tr>\n",
       "      <th>1</th>\n",
       "      <td>2</td>\n",
       "      <td>3</td>\n",
       "      <td>1.991902</td>\n",
       "    </tr>\n",
       "    <tr>\n",
       "      <th>2</th>\n",
       "      <td>4</td>\n",
       "      <td>3</td>\n",
       "      <td>3.319837</td>\n",
       "    </tr>\n",
       "    <tr>\n",
       "      <th>3</th>\n",
       "      <td>3</td>\n",
       "      <td>2</td>\n",
       "      <td>2.655870</td>\n",
       "    </tr>\n",
       "    <tr>\n",
       "      <th>4</th>\n",
       "      <td>5</td>\n",
       "      <td>5</td>\n",
       "      <td>3.983805</td>\n",
       "    </tr>\n",
       "  </tbody>\n",
       "</table>\n",
       "</div>"
      ],
      "text/plain": [
       "   x  actual y  predicted y\n",
       "0  1         1     1.327935\n",
       "1  2         3     1.991902\n",
       "2  4         3     3.319837\n",
       "3  3         2     2.655870\n",
       "4  5         5     3.983805"
      ]
     },
     "execution_count": 13,
     "metadata": {},
     "output_type": "execute_result"
    }
   ],
   "source": [
    "y_hat = [final_b_0 + final_b_1 * row for row in x]\n",
    "predictions = pd.DataFrame(list(zip(x,y,y_hat)), columns = ('x', 'actual y', 'predicted y'))\n",
    "predictions"
   ]
  },
  {
   "cell_type": "code",
   "execution_count": 14,
   "metadata": {},
   "outputs": [
    {
     "data": {
      "text/plain": [
       "Text(0.5,1,'Actual VS Prediction')"
      ]
     },
     "execution_count": 14,
     "metadata": {},
     "output_type": "execute_result"
    },
    {
     "data": {
      "image/png": "[encoded data removed]",
      "text/plain": [
       "<Figure size 432x288 with 1 Axes>"
      ]
     },
     "metadata": {},
     "output_type": "display_data"
    }
   ],
   "source": [
    "plt.scatter(x,y)\n",
    "plt.plot(x,y_hat,'r')\n",
    "plt.scatter(x,y_hat, c='r')\n",
    "plt.title('Actual VS Prediction')"
   ]
  },
  {
   "cell_type": "code",
   "execution_count": null,
   "metadata": {},
   "outputs": [],
   "source": []
  }
 ],
 "metadata": {
  "kernelspec": {
   "display_name": "Python 3",
   "language": "python",
   "name": "python3"
  },
  "language_info": {
   "codemirror_mode": {
    "name": "ipython",
    "version": 3
   },
   "file_extension": ".py",
   "mimetype": "text/x-python",
   "name": "python",
   "nbconvert_exporter": "python",
   "pygments_lexer": "ipython3",
   "version": "3.6.5"
  }
 },
 "nbformat": 4,
 "nbformat_minor": 2
}

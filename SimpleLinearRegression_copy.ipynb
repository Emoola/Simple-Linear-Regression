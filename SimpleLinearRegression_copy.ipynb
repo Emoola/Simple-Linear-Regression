{
 "cells": [
  {
   "cell_type": "markdown",
   "metadata": {},
   "source": [
    "### How To Implement Simple Linear Regression From Scratch With Python\n",
    "https://machinelearningmastery.com/implement-simple-linear-regression-scratch-python/"
   ]
  },
  {
   "cell_type": "code",
   "execution_count": 1,
   "metadata": {},
   "outputs": [
    {
     "name": "stdout",
     "output_type": "stream",
     "text": [
      "*** No CODEPAGE record, no encoding_override: will use 'ascii'\n",
      "[[108.0, 392.5], [19.0, 46.2], [13.0, 15.7], [124.0, 422.2], [40.0, 119.4], [57.0, 170.9], [23.0, 56.9], [14.0, 77.5], [45.0, 214.0], [10.0, 65.3], [5.0, 20.9], [48.0, 248.1], [11.0, 23.5], [23.0, 39.6], [7.0, 48.8], [2.0, 6.6], [24.0, 134.9], [6.0, 50.9], [3.0, 4.4], [23.0, 113.0], [6.0, 14.8], [9.0, 48.7], [9.0, 52.1], [3.0, 13.2], [29.0, 103.9], [7.0, 77.5], [4.0, 11.8], [20.0, 98.1], [7.0, 27.9], [4.0, 38.1], [0.0, 0.0], [25.0, 69.2], [6.0, 14.6], [5.0, 40.3], [22.0, 161.5], [11.0, 57.2], [61.0, 217.6], [12.0, 58.1], [4.0, 12.6], [16.0, 59.6], [13.0, 89.9], [60.0, 202.4], [41.0, 181.3], [37.0, 152.8], [55.0, 162.8], [41.0, 73.4], [11.0, 21.3], [27.0, 92.6], [8.0, 76.1], [3.0, 39.9], [17.0, 142.1], [13.0, 93.0], [13.0, 31.9], [15.0, 32.1], [8.0, 55.6], [29.0, 133.3], [30.0, 194.5], [24.0, 137.9], [9.0, 87.4], [31.0, 209.8], [14.0, 95.5], [53.0, 244.6], [26.0, 187.5]]\n"
     ]
    }
   ],
   "source": [
    "import pandas as pd\n",
    "from random import randrange\n",
    "from random import seed\n",
    "from math import sqrt\n",
    "from matplotlib import pyplot as plt\n",
    "\n",
    "dataset_df = pd.read_excel('slr06.xls')\n",
    "dataset = dataset_df.values.tolist()"
   ]
  },
  {
   "cell_type": "markdown",
   "metadata": {},
   "source": [
    "$b_{0} = \\bar{y} - b_{1}\\bar{x}$, $b_{1}=\\frac{\\sum\\left(x-\\bar{x}\\right)\\left(y-\\bar{y}\\right)}{\\sum\\left(x-\\bar{x}\\right)^{2}}=\\frac{Cov(x,y)}{Var(x,y)}$"
   ]
  },
  {
   "cell_type": "code",
   "execution_count": 2,
   "metadata": {},
   "outputs": [],
   "source": [
    "def mean(values):\n",
    "    return sum(values)/float(len(values))\n",
    "\n",
    "def variance(values, mean):\n",
    "    return sum([(each_value-mean)**2 for each_value in values])\n",
    "\n",
    "def covariance(x, mean_x, y, mean_y):\n",
    "    covar = 0.0\n",
    "    for i in range(len(x)):\n",
    "        covar += (x[i] - mean_x) * (y[i] - mean_y)\n",
    "    return covar\n",
    "#mean_x, mean_y = mean(x), mean(y)\n",
    "#var_x, var_y = variance(x, mean_x), variance(y, mean_y)\n",
    "#covar = covariance(x, mean_x, y, mean_y)\n",
    "def coefficients(train):\n",
    "    x = [row[0] for row in train]\n",
    "    y = [row[1] for row in train]\n",
    "    x_mean, y_mean = mean(x), mean(y)\n",
    "    b1 = covariance(x, x_mean, y, y_mean) / variance(x, x_mean)\n",
    "    b0 = y_mean - b1 * x_mean\n",
    "    print('x stats: mean=%.3f' % x_mean)\n",
    "    print('y stats: mean=%.3f' % y_mean)\n",
    "    return [b0, b1]\n",
    "\n",
    "#b0, b1 = coefficients(x,y)\n",
    "\n",
    "\n"
   ]
  },
  {
   "cell_type": "markdown",
   "metadata": {},
   "source": [
    "\n",
    "\n",
    "Split the dataset in random order for the training dataset. The ratio of training set to the original dataset is set as 0.6 "
   ]
  },
  {
   "cell_type": "code",
   "execution_count": 3,
   "metadata": {},
   "outputs": [],
   "source": [
    "def train_test_split(dataset, split_ratio):\n",
    "    training_set = list()\n",
    "    dataset_copy = list(dataset)\n",
    "    train_size = split_ratio * len(dataset)\n",
    "    while len(training_set) < train_size:\n",
    "        index = randrange(len(dataset_copy))\n",
    "        training_set.append(dataset_copy.pop(index))    \n",
    "    plt.figure(1)\n",
    "    x = [row[0] for row in training_set]\n",
    "    y = [row[-1] for row in training_set]\n",
    "    plt.scatter(x,y,c='b')\n",
    "    plt.title('Training data set')\n",
    "    #print(plt.figure(1))\n",
    "    return training_set, dataset_copy\n",
    "#dataset_copy is now the testing dataset.\n"
   ]
  },
  {
   "cell_type": "code",
   "execution_count": 4,
   "metadata": {},
   "outputs": [],
   "source": [
    "def rmse_metric(actual, predicted):\n",
    "    sum_error = 0.0\n",
    "    prediction_error_list = list()\n",
    "    for i in range(len(actual)):\n",
    "        prediction_error = predicted[i] - actual[i]\n",
    "        #prediction_error_list.append(prediction_error)\n",
    "        #prediction_error_list.append([predicted[i],actual[i]])\n",
    "        sum_error += (prediction_error ** 2)\n",
    "    mean_error = sum_error / float(len(actual))\n",
    "    return sqrt(mean_error)"
   ]
  },
  {
   "cell_type": "code",
   "execution_count": 5,
   "metadata": {},
   "outputs": [],
   "source": [
    "def evaluate_algorithm(dataset, algorithm, split):\n",
    "    train, test = train_test_split(dataset, split)\n",
    "    test_set = list()\n",
    "    for row in test:\n",
    "        row_copy = list(row)\n",
    "        row_copy[-1] = None\n",
    "        test_set.append(row_copy)\n",
    "        #Remove the 'Y' value in testing set\n",
    "    predicted = algorithm(train, test_set)\n",
    "    actual = [row[-1] for row in test]\n",
    "    x = [row[0] for row in test]\n",
    "    rmse = rmse_metric(actual, predicted)\n",
    "    plt.figure(2)\n",
    "    plt.scatter(x,actual,c='orange')\n",
    "    plt.plot(x,predicted,'r')\n",
    "    plt.title('Testing dataset')\n",
    "    return rmse"
   ]
  },
  {
   "cell_type": "code",
   "execution_count": 6,
   "metadata": {},
   "outputs": [],
   "source": [
    "def simple_linear_regression(train, test):\n",
    "    predictions = list()\n",
    "    b0, b1 = coefficients(train)\n",
    "    print('Coefficients: B0=%.3f, B1=%.3f' % (b0, b1))\n",
    "    for row in test:\n",
    "        yhat = b0 + b1 * row[0]\n",
    "        predictions.append(yhat)\n",
    "        \n",
    "   # data = pd.DataFrame(list(zip(x, y, predictions)), columns=['x','actual y', 'predicted y'])\n",
    "    #print(data)\n",
    "    return predictions"
   ]
  },
  {
   "cell_type": "code",
   "execution_count": 7,
   "metadata": {},
   "outputs": [
    {
     "name": "stdout",
     "output_type": "stream",
     "text": [
      "x stats: mean=27.447\n",
      "y stats: mean=119.287\n",
      "Coefficients: B0=28.229, B1=3.318\n",
      "RMSE: 33.630\n"
     ]
    },
    {
     "data": {
      "image/png": "[encoded data removed]",
      "text/plain": [
       "<matplotlib.figure.Figure at 0x7f235159e828>"
      ]
     },
     "metadata": {},
     "output_type": "display_data"
    },
    {
     "data": {
      "image/png": "[encoded data removed]",
      "text/plain": [
       "<matplotlib.figure.Figure at 0x7f23515772b0>"
      ]
     },
     "metadata": {},
     "output_type": "display_data"
    }
   ],
   "source": [
    "seed(1)\n",
    "split = 0.6\n",
    "rmse = evaluate_algorithm(dataset, simple_linear_regression, split)\n",
    "\n",
    "print('RMSE: %.3f' % (rmse))"
   ]
  },
  {
   "cell_type": "code",
   "execution_count": null,
   "metadata": {},
   "outputs": [],
   "source": []
  }
 ],
 "metadata": {
  "kernelspec": {
   "display_name": "Python 3",
   "language": "python",
   "name": "python3"
  },
  "language_info": {
   "codemirror_mode": {
    "name": "ipython",
    "version": 3
   },
   "file_extension": ".py",
   "mimetype": "text/x-python",
   "name": "python",
   "nbconvert_exporter": "python",
   "pygments_lexer": "ipython3",
   "version": "3.6.5"
  }
 },
 "nbformat": 4,
 "nbformat_minor": 2
}
